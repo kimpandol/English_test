{
 "cells": [
  {
   "cell_type": "code",
   "execution_count": 56,
   "metadata": {},
   "outputs": [
    {
     "name": "stdout",
     "output_type": "stream",
     "text": [
      "3\n",
      "1\n",
      "2\n",
      "4\n"
     ]
    }
   ],
   "source": [
    "import random\n",
    "ozoz = [3,1,2,3]\n",
    "\n",
    "def iii():\n",
    "    okok = []\n",
    "    for i in ozoz:\n",
    "        if i not in okok:\n",
    "            okok.append(i)\n",
    "\n",
    "        else:\n",
    "            while True:\n",
    "                a = random.randrange(1,5)\n",
    "                if a not in okok:\n",
    "                    okok.append(a)\n",
    "                    break\n",
    "        \n",
    "    for i in range(len(okok)):\n",
    "        print(okok[i])\n",
    "\n",
    "iii()"
   ]
  }
 ],
 "metadata": {
  "kernelspec": {
   "display_name": "Python 3.10.5 64-bit",
   "language": "python",
   "name": "python3"
  },
  "language_info": {
   "codemirror_mode": {
    "name": "ipython",
    "version": 3
   },
   "file_extension": ".py",
   "mimetype": "text/x-python",
   "name": "python",
   "nbconvert_exporter": "python",
   "pygments_lexer": "ipython3",
   "version": "3.10.5"
  },
  "orig_nbformat": 4,
  "vscode": {
   "interpreter": {
    "hash": "669fdd2b14cea15e663afea88712cdd91063807774217e46749ade918abdb810"
   }
  }
 },
 "nbformat": 4,
 "nbformat_minor": 2
}
